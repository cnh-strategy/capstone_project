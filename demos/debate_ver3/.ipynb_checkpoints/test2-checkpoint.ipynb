{
 "cells": [
  {
   "cell_type": "code",
   "execution_count": null,
   "id": "c238a818",
   "metadata": {},
   "outputs": [
    {
     "ename": "",
     "evalue": "",
     "output_type": "error",
     "traceback": [
      "\u001b[1;31mThe kernel failed to start as the Python Environment 'Python' is no longer available. Consider selecting another kernel or refreshing the list of Python Environments."
     ]
    }
   ],
   "source": [
    "# 커널 확인\n",
    "import sys\n",
    "print(f\"Python 경로: {sys.executable}\")\n",
    "print(f\"Python 버전: {sys.version}\")\n",
    "\n",
    "# 라이브러리 import 테스트\n",
    "try:\n",
    "    import torch\n",
    "    print(f\"✅ PyTorch 버전: {torch.__version__}\")\n",
    "except ImportError as e:\n",
    "    print(f\"❌ PyTorch import 실패: {e}\")\n",
    "\n",
    "try:\n",
    "    import pandas as pd\n",
    "    print(f\"✅ Pandas 버전: {pd.__version__}\")\n",
    "except ImportError as e:\n",
    "    print(f\"❌ Pandas import 실패: {e}\")\n",
    "\n",
    "try:\n",
    "    import streamlit\n",
    "    print(f\"✅ Streamlit 버전: {streamlit.__version__}\")\n",
    "except ImportError as e:\n",
    "    print(f\"❌ Streamlit import 실패: {e}\")\n",
    "\n",
    "# 프로젝트 모듈 import 테스트\n",
    "try:\n",
    "    from run import run_debate\n",
    "    print(\"✅ run 모듈 import 성공\")\n",
    "except ImportError as e:\n",
    "    print(f\"❌ run 모듈 import 실패: {e}\")\n",
    "\n",
    "try:\n",
    "    from core.data_set import build_dataset, load_dataset, fetch_ticker_data, create_sequences\n",
    "    print(\"✅ core.data_set 모듈 import 성공\")\n",
    "except ImportError as e:\n",
    "    print(f\"❌ core.data_set 모듈 import 실패: {e}\")\n",
    "\n",
    "import warnings\n",
    "warnings.filterwarnings('ignore')\n"
   ]
  },
  {
   "cell_type": "code",
   "execution_count": null,
   "id": "5eaaf7fb",
   "metadata": {},
   "outputs": [],
   "source": []
  }
 ],
 "metadata": {
  "kernelspec": {
   "display_name": "venv",
   "language": "python",
   "name": "python3"
  },
  "language_info": {
   "name": "python",
   "version": "3.10.12"
  }
 },
 "nbformat": 4,
 "nbformat_minor": 5
}
