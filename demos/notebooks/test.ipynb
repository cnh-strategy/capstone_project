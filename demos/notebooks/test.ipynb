{
 "cells": [
  {
   "cell_type": "code",
   "execution_count": null,
   "id": "8cdd2772",
   "metadata": {},
   "outputs": [],
   "source": [
    "import yfinance as yf\n",
    "import pandas as pd\n",
    "from datetime import datetime, timedelta\n",
    "\n",
    "\n",
    "def get_multi_index_prices(end_date: str) -> pd.DataFrame:\n",
    "    \"\"\"\n",
    "    여러 지표의 1년치 Close 가격을 하나의 DataFrame으로 반환\n",
    "    (Date, VIX, S&P500, NASDAQ, DXY, DOWJONES, US10Y)\n",
    "    \"\"\"\n",
    "    tickers = {\n",
    "        \"DXY\": \"DX-Y.NYB\",\n",
    "        \"NASDAQ\": \"^IXIC\",\n",
    "        \"S&P500\": \"^GSPC\",\n",
    "        \"DOWJONES\": \"^DJI\",\n",
    "        \"VIX\": \"^VIX\",\n",
    "        \"US10Y\": \"^TNX\"\n",
    "    }\n",
    "\n",
    "    end = datetime.strptime(end_date, \"%Y-%m-%d\")\n",
    "    start = end - timedelta(days=365)\n",
    "\n",
    "    df = yf.download(\n",
    "        list(tickers.values()),\n",
    "        start=start.strftime(\"%Y-%m-%d\"),\n",
    "        end=end.strftime(\"%Y-%m-%d\"),\n",
    "        progress=False\n",
    "    )[\"Close\"]\n",
    "\n",
    "    # 멀티인덱스 컬럼이면 풀기\n",
    "    if isinstance(df.columns, pd.MultiIndex):\n",
    "        df.columns = df.columns.droplevel(0)\n",
    "\n",
    "    # 컬럼명 매핑\n",
    "    rename_map = {v: k for k, v in tickers.items()}\n",
    "    df = df.rename(columns=rename_map)\n",
    "\n",
    "    # 원하는 순서\n",
    "    ordered_cols = [\"VIX\", \"S&P500\", \"NASDAQ\", \"DXY\", \"DOWJONES\", \"US10Y\"]\n",
    "    df = df[ordered_cols]\n",
    "\n",
    "    # 컬럼 인덱스 이름 제거 → \"Ticker\" 안 뜨게 함\n",
    "    df.columns.name = None\n",
    "\n",
    "    return df\n",
    "\n",
    "# 실행 예시\n",
    "# if __name__ == \"__main__\":\n",
    "#     df_indices = get_multi_index_prices(\"2025-01-02\")\n",
    "#     print(df_indices.tail())\n",
    "\n",
    "\n",
    "c\n",
    "    "
   ]
  },
  {
   "cell_type": "code",
   "execution_count": null,
   "id": "6625efd4",
   "metadata": {},
   "outputs": [],
   "source": [
    "get_quarterly_report(symbol: str, date: str)\n",
    "get_price_history(ticker: str, end_date: str)\n",
    "get_multi_index_prices(end_date: str)"
   ]
  },
  {
   "cell_type": "code",
   "execution_count": null,
   "id": "e4bc8447",
   "metadata": {},
   "outputs": [],
   "source": [
    "get_quarterly_report('AAPL', '2025-6-20')"
   ]
  },
  {
   "cell_type": "code",
   "execution_count": null,
   "id": "4fd20923",
   "metadata": {},
   "outputs": [],
   "source": [
    "df = get_quarterly_report('RZLV', '2025-10-03')"
   ]
  },
  {
   "cell_type": "code",
   "execution_count": null,
   "id": "1eb50ba5",
   "metadata": {},
   "outputs": [],
   "source": [
    "get_price_history('RZLV', '2025-10-03')"
   ]
  },
  {
   "cell_type": "code",
   "execution_count": null,
   "id": "3d4e25a6",
   "metadata": {},
   "outputs": [],
   "source": [
    "get_multi_index_prices('2025-10-03')\n"
   ]
  },
  {
   "cell_type": "code",
   "execution_count": null,
   "id": "e13f60ca",
   "metadata": {},
   "outputs": [],
   "source": [
    "def get_quarterly_report(symbol: str, date: str, period: int) -> pd.DataFrame:\n",
    "    tk = yf.Ticker(symbol)\n",
    "    target_date = datetime.strptime(date, \"%Y-%m-%d\")\n",
    "    start_date = target_date - timedelta(days=365*period)\n",
    "\n",
    "    # 재무 데이터\n",
    "    income = tk.quarterly_financials.T\n",
    "    balance = tk.quarterly_balance_sheet.T\n",
    "    cashflow = tk.quarterly_cashflow.T\n",
    "\n",
    "    # 기간 필터링\n",
    "    valid_periods = [p for p in income.index if p + timedelta(days=45) <= target_date and p >= start_date]\n",
    "    print(valid_periods)\n",
    "    if not valid_periods:\n",
    "        return pd.DataFrame()\n",
    "\n",
    "    df_list = []\n",
    "    for p in valid_periods:\n",
    "        row = {\n",
    "            \"symbol\": symbol,\n",
    "            \"period\": p,\n",
    "            \"year\": p.year,\n",
    "            \"net_income\": income.loc[p].get(\"Net Income\"),\n",
    "            \"revenue\": income.loc[p].get(\"Total Revenue\"),\n",
    "            \"operating_income\": income.loc[p].get(\"Operating Income\"),\n",
    "            \"gross_profit\": income.loc[p].get(\"Gross Profit\"),\n",
    "            \"total_assets\": balance.loc[p].get(\"Total Assets\"),\n",
    "            \"total_liabilities\": balance.loc[p].get(\"Total Liabilities\"),\n",
    "            \"operating_cf\": cashflow.loc[p].get(\"Total Cash From Operating Activities\"),\n",
    "            \"capex\": cashflow.loc[p].get(\"Capital Expenditures\"),\n",
    "        }\n",
    "        df_list.append(row)\n",
    "\n",
    "    df = pd.DataFrame(df_list).sort_values(\"period\")\n",
    "\n",
    "    # 파생 변수 예시\n",
    "    df[\"profit_margin\"] = df[\"net_income\"] / df[\"revenue\"]\n",
    "    df[\"debt_to_equity\"] = df[\"total_liabilities\"] / (df[\"total_assets\"] - df[\"total_liabilities\"])\n",
    "    df[\"free_cf\"] = (df[\"operating_cf\"].fillna(0) + df[\"capex\"].fillna(0))\n",
    "\n",
    "    # 최근 분기 값, 최근 4분기 평균, 최근 12분기 평균\n",
    "    summary = {\n",
    "        \"net_income_latest\": df[\"net_income\"].iloc[-1],\n",
    "        \"net_income_avg4\": df[\"net_income\"].tail(4).mean(),\n",
    "        \"net_income_avg12\": df[\"net_income\"].tail(12).mean(),\n",
    "        \"revenue_latest\": df[\"revenue\"].iloc[-1],\n",
    "        \"revenue_avg4\": df[\"revenue\"].tail(4).mean(),\n",
    "        \"revenue_avg12\": df[\"revenue\"].tail(12).mean(),\n",
    "    }\n",
    "\n",
    "    return df\n"
   ]
  },
  {
   "cell_type": "code",
   "execution_count": null,
   "id": "8b6faf29",
   "metadata": {},
   "outputs": [],
   "source": [
    "get_quarterly_report('TSLA', '2025-10-03', 3)"
   ]
  },
  {
   "cell_type": "code",
   "execution_count": null,
   "id": "7f7cd3c1",
   "metadata": {},
   "outputs": [],
   "source": [
    "tk = yf.Ticker('RZLV')"
   ]
  },
  {
   "cell_type": "code",
   "execution_count": null,
   "id": "0f82b825",
   "metadata": {},
   "outputs": [],
   "source": [
    "tk.balance_sheet"
   ]
  },
  {
   "cell_type": "code",
   "execution_count": null,
   "id": "2581efda",
   "metadata": {},
   "outputs": [],
   "source": [
    "tk.recommendations"
   ]
  },
  {
   "cell_type": "code",
   "execution_count": null,
   "id": "dcb35ad2",
   "metadata": {},
   "outputs": [],
   "source": [
    "tk.recommendations_summary"
   ]
  },
  {
   "cell_type": "code",
   "execution_count": null,
   "id": "176c103c",
   "metadata": {},
   "outputs": [],
   "source": [
    "tk.analyst_price_target"
   ]
  },
  {
   "cell_type": "code",
   "execution_count": null,
   "id": "688dfad4",
   "metadata": {},
   "outputs": [],
   "source": [
    "tk.upgrades_downgrades  "
   ]
  },
  {
   "cell_type": "code",
   "execution_count": null,
   "id": "aa22f9a9",
   "metadata": {},
   "outputs": [],
   "source": [
    "a = tk.history(period='2d', interval='15m')\n",
    "a"
   ]
  },
  {
   "cell_type": "code",
   "execution_count": null,
   "id": "08e6e533",
   "metadata": {},
   "outputs": [],
   "source": [
    "import matplotlib.pyplot as plt\n",
    "import seaborn as sns"
   ]
  },
  {
   "cell_type": "code",
   "execution_count": null,
   "id": "2b68a818",
   "metadata": {},
   "outputs": [],
   "source": [
    "plt.plot(a.index, a)"
   ]
  },
  {
   "cell_type": "code",
   "execution_count": null,
   "id": "966f0b15",
   "metadata": {},
   "outputs": [],
   "source": [
    "import pandas as pd\n",
    "import matplotlib.pyplot as plt\n",
    "\n",
    "# 예시 데이터\n",
    "data = {\n",
    "    \"Datetime\": [\n",
    "        \"2025-10-01 09:30:00\", \"2025-10-01 09:45:00\", \"2025-10-01 10:00:00\"\n",
    "    ],\n",
    "    \"Open\": [6.03, 5.78, 5.87],\n",
    "    \"High\": [6.23, 5.97, 5.94],\n",
    "    \"Low\": [5.61, 5.71, 5.73],\n",
    "    \"Close\": [5.77, 5.87, 5.78],\n",
    "    \"Volume\": [19404509, 2928167, 1622564],\n",
    "}\n",
    "df = pd.DataFrame(a)\n",
    "df[\"Datetime\"] = pd.to_datetime(df[\"Datetime\"])\n",
    "df.set_index(\"Datetime\", inplace=True)\n",
    "\n",
    "# 캔들차트 + 거래량\n",
    "fig, (ax1, ax2) = plt.subplots(2, 1, figsize=(10,6), sharex=True,\n",
    "                               gridspec_kw={'height_ratios':[3,1]})\n",
    "\n",
    "for dt, row in df.iterrows():\n",
    "    color = 'red' if row['Close'] >= row['Open'] else 'blue'\n",
    "    # 고가~저가 (wick)\n",
    "    ax1.plot([dt, dt], [row['Low'], row['High']], color=color)\n",
    "    # 시가~종가 (body)\n",
    "    ax1.add_patch(plt.Rectangle((dt, min(row['Open'], row['Close'])),\n",
    "                                pd.Timedelta(minutes=15),  # 캔들 너비\n",
    "                                abs(row['Close']-row['Open']),\n",
    "                                color=color))\n",
    "ax1.set_ylabel(\"Price\")\n",
    "ax1.set_title(\"Candlestick with Volume\")\n",
    "\n",
    "# 거래량\n",
    "ax2.bar(df.index, df[\"Volume\"], width=600, color=\"gray\")\n",
    "ax2.set_ylabel(\"Volume\")\n",
    "\n",
    "plt.xticks(rotation=45)\n",
    "plt.tight_layout()\n",
    "plt.show()\n"
   ]
  },
  {
   "cell_type": "code",
   "execution_count": null,
   "id": "0ae87109",
   "metadata": {},
   "outputs": [],
   "source": [
    "import yfinance as yf\n",
    "import mplfinance as mpf\n",
    "\n",
    "# 애플 주가 데이터 다운로드\n",
    "df = yf.download(\"AAPL\", period=\"3mo\", interval=\"1d\")\n",
    "ㅠ\n",
    "# 캔들차트 + 거래량\n",
    "mpf.plot(df, type=\"candle\", volume=True, style=\"charles\")\n"
   ]
  },
  {
   "cell_type": "code",
   "execution_count": null,
   "id": "5c95d1e6",
   "metadata": {},
   "outputs": [],
   "source": [
    "df"
   ]
  },
  {
   "cell_type": "code",
   "execution_count": null,
   "id": "463270b5",
   "metadata": {},
   "outputs": [],
   "source": [
    "import yfinance as yf\n",
    "import mplfinance as mpf\n",
    "\n",
    "# 데이터 다운로드 (auto_adjust=False로 원래처럼 조정 안 한 가격 받기)\n",
    "df = yf.download(\"RZLV\", period=\"3mo\", interval=\"1d\", auto_adjust=False)\n",
    "\n",
    "# 불필요한 컬럼 제거\n",
    "df = df.drop(columns=[\"Dividends\",\"Stock Splits\"], errors=\"ignore\")\n",
    "\n",
    "# NaN 제거\n",
    "df = df.dropna()\n",
    "\n",
    "# 인덱스 타임존 제거\n",
    "df.index = df.index.tz_localize(None)\n",
    "\n",
    "# 혹시 MultiIndex로 내려온 경우 대비 → 단일 레벨로 강제 변환\n",
    "if isinstance(df.columns, pd.MultiIndex):\n",
    "    df.columns = df.columns.get_level_values(0)\n",
    "\n",
    "# 컬럼명 표준화 (대문자 확인)\n",
    "df = df.rename(columns=str.title)  # 'open' → 'Open'\n",
    "\n",
    "print(df.dtypes)   # 모든 컬럼 float64 확인\n",
    "print(df.head())\n",
    "\n",
    "# 캔들차트 + 거래량\n",
    "mpf.plot(df, type=\"candle\", volume=True, style=\"charles\", figsize=(10,6))\n"
   ]
  },
  {
   "cell_type": "code",
   "execution_count": null,
   "id": "59ac95a7",
   "metadata": {},
   "outputs": [],
   "source": [
    "df"
   ]
  },
  {
   "cell_type": "code",
   "execution_count": null,
   "id": "6ba6581d",
   "metadata": {},
   "outputs": [],
   "source": [
    "import yfinance as yf\n",
    "import plotly.graph_objects as go\n",
    "\n",
    "# 데이터 다운로드\n",
    "df = yf.download(\"TSLA\", period=\"3mo\", interval=\"1d\", auto_adjust=False)\n",
    "\n",
    "# 혹시 MultiIndex로 내려온 경우 대비 → 단일 레벨로 강제 변환\n",
    "if isinstance(df.columns, pd.MultiIndex):\n",
    "    df.columns = df.columns.get_level_values(0)\n",
    "    \n",
    "# 캔들차트 (y축 = Price)\n",
    "fig.add_trace(go.Candlestick(\n",
    "    x=df.index,\n",
    "    open=df['Open'],\n",
    "    high=df['High'],\n",
    "    low=df['Low'],\n",
    "    close=df['Close'],\n",
    "    name=\"Candlestick\",\n",
    "    yaxis=\"y1\"\n",
    "))\n",
    "\n",
    "# 거래량 (y축 = Volume, 오른쪽)\n",
    "fig.add_trace(go.Bar(\n",
    "    x=df.index,\n",
    "    y=df['Volume'],\n",
    "    name=\"Volume\",\n",
    "    marker_color=\"lightgray\",\n",
    "    yaxis=\"y2\"\n",
    "))\n",
    "\n",
    "# 레이아웃\n",
    "fig.update_layout(\n",
    "    title=\"RZLV Candlestick with Volume\",\n",
    "    xaxis=dict(rangeslider=dict(visible=False)),\n",
    "    yaxis=dict(title=\"Price\", side=\"left\"),\n",
    "    yaxis2=dict(title=\"Volume\", side=\"right\", overlaying=\"y\", showgrid=False),\n",
    "    template=\"plotly_white\",\n",
    "    hovermode=\"x unified\",\n",
    "    height=600\n",
    ")\n",
    "\n",
    "fig.show()"
   ]
  },
  {
   "cell_type": "code",
   "execution_count": null,
   "id": "add1e4e8",
   "metadata": {},
   "outputs": [],
   "source": [
    "# streamlit_app.py\n",
    "import yfinance as yf\n",
    "import plotly.graph_objects as go\n",
    "import streamlit as st\n",
    "\n",
    "ticker = st.text_input(\"Ticker\", \"AAPL\")\n",
    "df = yf.download(ticker, period=\"6mo\", interval=\"1d\", auto_adjust=False)\n",
    "\n",
    "fig = go.Figure(data=[go.Candlestick(\n",
    "    x=df.index, open=df['Open'], high=df['High'], low=df['Low'], close=df['Close']\n",
    ")])\n",
    "fig.add_trace(go.Bar(x=df.index, y=df['Volume'], name=\"Volume\", marker_color=\"lightgray\"))\n",
    "\n",
    "st.plotly_chart(fig, use_container_width=True)\n"
   ]
  },
  {
   "cell_type": "code",
   "execution_count": null,
   "id": "eb6ba9ad",
   "metadata": {},
   "outputs": [],
   "source": [
    "df"
   ]
  },
  {
   "cell_type": "code",
   "execution_count": null,
   "id": "a0575d7e",
   "metadata": {},
   "outputs": [],
   "source": [
    "tsla = yf.Ticker(\"TSLA\")"
   ]
  },
  {
   "cell_type": "code",
   "execution_count": null,
   "id": "103a4afd",
   "metadata": {},
   "outputs": [],
   "source": []
  }
 ],
 "metadata": {
  "kernelspec": {
   "display_name": "capstone",
   "language": "python",
   "name": "python3"
  },
  "language_info": {
   "codemirror_mode": {
    "name": "ipython",
    "version": 3
   },
   "file_extension": ".py",
   "mimetype": "text/x-python",
   "name": "python",
   "nbconvert_exporter": "python",
   "pygments_lexer": "ipython3",
   "version": "3.10.12"
  }
 },
 "nbformat": 4,
 "nbformat_minor": 5
}
